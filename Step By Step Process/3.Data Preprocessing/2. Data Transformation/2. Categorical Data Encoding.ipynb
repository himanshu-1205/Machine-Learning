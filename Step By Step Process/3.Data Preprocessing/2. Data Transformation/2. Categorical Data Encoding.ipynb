{
 "cells": [
  {
   "cell_type": "markdown",
   "id": "4115a726-8ca0-4312-ac24-fe39c8b6a8a2",
   "metadata": {},
   "source": [
    "# Please refer this for Categorical Data Encoding.\n",
    "# https://github.com/himanshu-1205/Statistics/blob/master/Statistics/Qualitative(Categorical)%20Data%20Analysis.ipynb"
   ]
  },
  {
   "cell_type": "code",
   "execution_count": null,
   "id": "ab4512b9-a1ca-40f3-8864-85a49724ea03",
   "metadata": {},
   "outputs": [],
   "source": []
  }
 ],
 "metadata": {
  "kernelspec": {
   "display_name": "Python 3 (ipykernel)",
   "language": "python",
   "name": "python3"
  },
  "language_info": {
   "codemirror_mode": {
    "name": "ipython",
    "version": 3
   },
   "file_extension": ".py",
   "mimetype": "text/x-python",
   "name": "python",
   "nbconvert_exporter": "python",
   "pygments_lexer": "ipython3",
   "version": "3.10.9"
  }
 },
 "nbformat": 4,
 "nbformat_minor": 5
}
