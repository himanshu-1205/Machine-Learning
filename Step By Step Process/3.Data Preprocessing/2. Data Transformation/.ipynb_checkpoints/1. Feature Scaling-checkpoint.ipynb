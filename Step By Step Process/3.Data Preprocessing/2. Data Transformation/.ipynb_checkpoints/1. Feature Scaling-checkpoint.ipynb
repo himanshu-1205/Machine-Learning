{
 "cells": [
  {
   "cell_type": "markdown",
   "id": "5656ff69-b978-4ff7-916b-0d0b1470c823",
   "metadata": {},
   "source": [
    "# Feature Scaling\n",
    "\n",
    "Feature scaling is a data preprocessing technique that involves transforming the values of features or variables in a dataset to a similar scale. This is done to ensure that all features contribute equally to the model and to prevent features with larger values from dominating the model. Feature scaling is essential when working with datasets where the features have different ranges, units of measurement, or orders of magnitude. Common feature scaling techniques include standardization, normalization, and min-max scaling. By applying feature scaling, the data can be transformed to a more consistent scale, making it easier to build accurate and effective machine learning models.\n",
    "\n",
    "## Why Should We Use Feature Scaling?\n",
    "Some machine learning algorithms are sensitive to feature scaling, while others are virtually invariant. Let’s explore these in more depth:\n",
    "\n",
    "1. **Gradient Descent Based Algorithms:-** Machine learning algorithms like linear regression, logistic regression, neural network, PCA (principal component analysis), etc., that use gradient descent as an optimization technique require data to be scaled.\n",
    "\n",
    "2. **Distance-Based Algorithms:-** Distance algorithms like KNN, K-means clustering, and SVM(support vector machines) are most affected by the range of features. This is because, behind the scenes, they are using distances between data points to determine their similarity.\n",
    "\n",
    "3. **Tree-Based Algorithms:-** Tree-based algorithms, on the other hand, are fairly insensitive to the scale of the features. Think about it, a decision tree only splits a node based on a single feature. The decision tree splits a node on a feature that increases the homogeneity of the node. Other features do not influence this split on a feature.\n",
    "\n",
    "## There are two types of feature scaling\n",
    "    1. Standardization or Z-Score Normalization\n",
    "    2. Normalization"
   ]
  },
  {
   "cell_type": "code",
   "execution_count": null,
   "id": "6c1c85f8-1711-49c6-b2ee-22f077d97729",
   "metadata": {},
   "outputs": [],
   "source": []
  }
 ],
 "metadata": {
  "kernelspec": {
   "display_name": "Python 3 (ipykernel)",
   "language": "python",
   "name": "python3"
  },
  "language_info": {
   "codemirror_mode": {
    "name": "ipython",
    "version": 3
   },
   "file_extension": ".py",
   "mimetype": "text/x-python",
   "name": "python",
   "nbconvert_exporter": "python",
   "pygments_lexer": "ipython3",
   "version": "3.10.9"
  }
 },
 "nbformat": 4,
 "nbformat_minor": 5
}
