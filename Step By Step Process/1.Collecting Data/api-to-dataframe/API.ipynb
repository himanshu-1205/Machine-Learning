{
 "cells": [
  {
   "cell_type": "code",
   "execution_count": 1,
   "metadata": {},
   "outputs": [],
   "source": [
    "import pandas as pd\n",
    "import requests"
   ]
  },
  {
   "cell_type": "markdown",
   "metadata": {},
   "source": [
    "Search on google \"tmdb api\" to get various API releated to movies.\n",
    "\n",
    "and to get the API Key, go to tmdb api setting and go to API section to get the API key"
   ]
  },
  {
   "cell_type": "code",
   "execution_count": 2,
   "metadata": {},
   "outputs": [],
   "source": [
    "response = requests.get('https://api.themoviedb.org/3/movie/top_rated?api_key=8265bd1679663a7ea12ac168da84d2e8&language=en-US&page=1')"
   ]
  },
  {
   "cell_type": "code",
   "execution_count": 3,
   "metadata": {},
   "outputs": [],
   "source": [
    "temp_df = pd.DataFrame(response.json()['results'])[['id','title','overview','release_date','popularity','vote_average','vote_count']]"
   ]
  },
  {
   "cell_type": "code",
   "execution_count": 5,
   "metadata": {},
   "outputs": [
    {
     "data": {
      "text/html": [
       "<div>\n",
       "<style scoped>\n",
       "    .dataframe tbody tr th:only-of-type {\n",
       "        vertical-align: middle;\n",
       "    }\n",
       "\n",
       "    .dataframe tbody tr th {\n",
       "        vertical-align: top;\n",
       "    }\n",
       "\n",
       "    .dataframe thead th {\n",
       "        text-align: right;\n",
       "    }\n",
       "</style>\n",
       "<table border=\"1\" class=\"dataframe\">\n",
       "  <thead>\n",
       "    <tr style=\"text-align: right;\">\n",
       "      <th></th>\n",
       "      <th>id</th>\n",
       "      <th>title</th>\n",
       "      <th>overview</th>\n",
       "      <th>release_date</th>\n",
       "      <th>popularity</th>\n",
       "      <th>vote_average</th>\n",
       "      <th>vote_count</th>\n",
       "    </tr>\n",
       "  </thead>\n",
       "  <tbody>\n",
       "    <tr>\n",
       "      <th>0</th>\n",
       "      <td>238</td>\n",
       "      <td>The Godfather</td>\n",
       "      <td>Spanning the years 1945 to 1955, a chronicle o...</td>\n",
       "      <td>1972-03-14</td>\n",
       "      <td>122.779</td>\n",
       "      <td>8.7</td>\n",
       "      <td>18259</td>\n",
       "    </tr>\n",
       "    <tr>\n",
       "      <th>1</th>\n",
       "      <td>278</td>\n",
       "      <td>The Shawshank Redemption</td>\n",
       "      <td>Framed in the 1940s for the double murder of h...</td>\n",
       "      <td>1994-09-23</td>\n",
       "      <td>95.820</td>\n",
       "      <td>8.7</td>\n",
       "      <td>24156</td>\n",
       "    </tr>\n",
       "    <tr>\n",
       "      <th>2</th>\n",
       "      <td>240</td>\n",
       "      <td>The Godfather Part II</td>\n",
       "      <td>In the continuing saga of the Corleone crime f...</td>\n",
       "      <td>1974-12-20</td>\n",
       "      <td>68.874</td>\n",
       "      <td>8.6</td>\n",
       "      <td>11022</td>\n",
       "    </tr>\n",
       "    <tr>\n",
       "      <th>3</th>\n",
       "      <td>19404</td>\n",
       "      <td>Dilwale Dulhania Le Jayenge</td>\n",
       "      <td>Raj is a rich, carefree, happy-go-lucky second...</td>\n",
       "      <td>1995-10-20</td>\n",
       "      <td>36.855</td>\n",
       "      <td>8.6</td>\n",
       "      <td>4178</td>\n",
       "    </tr>\n",
       "    <tr>\n",
       "      <th>4</th>\n",
       "      <td>424</td>\n",
       "      <td>Schindler's List</td>\n",
       "      <td>The true story of how businessman Oskar Schind...</td>\n",
       "      <td>1993-12-15</td>\n",
       "      <td>52.612</td>\n",
       "      <td>8.6</td>\n",
       "      <td>14277</td>\n",
       "    </tr>\n",
       "  </tbody>\n",
       "</table>\n",
       "</div>"
      ],
      "text/plain": [
       "      id                        title  \\\n",
       "0    238                The Godfather   \n",
       "1    278     The Shawshank Redemption   \n",
       "2    240        The Godfather Part II   \n",
       "3  19404  Dilwale Dulhania Le Jayenge   \n",
       "4    424             Schindler's List   \n",
       "\n",
       "                                            overview release_date  popularity  \\\n",
       "0  Spanning the years 1945 to 1955, a chronicle o...   1972-03-14     122.779   \n",
       "1  Framed in the 1940s for the double murder of h...   1994-09-23      95.820   \n",
       "2  In the continuing saga of the Corleone crime f...   1974-12-20      68.874   \n",
       "3  Raj is a rich, carefree, happy-go-lucky second...   1995-10-20      36.855   \n",
       "4  The true story of how businessman Oskar Schind...   1993-12-15      52.612   \n",
       "\n",
       "   vote_average  vote_count  \n",
       "0           8.7       18259  \n",
       "1           8.7       24156  \n",
       "2           8.6       11022  \n",
       "3           8.6        4178  \n",
       "4           8.6       14277  "
      ]
     },
     "execution_count": 5,
     "metadata": {},
     "output_type": "execute_result"
    }
   ],
   "source": [
    "temp_df.head()"
   ]
  },
  {
   "cell_type": "code",
   "execution_count": 17,
   "metadata": {},
   "outputs": [],
   "source": [
    "df = pd.DataFrame()"
   ]
  },
  {
   "cell_type": "code",
   "execution_count": 18,
   "metadata": {},
   "outputs": [
    {
     "data": {
      "text/html": [
       "<div>\n",
       "<style scoped>\n",
       "    .dataframe tbody tr th:only-of-type {\n",
       "        vertical-align: middle;\n",
       "    }\n",
       "\n",
       "    .dataframe tbody tr th {\n",
       "        vertical-align: top;\n",
       "    }\n",
       "\n",
       "    .dataframe thead th {\n",
       "        text-align: right;\n",
       "    }\n",
       "</style>\n",
       "<table border=\"1\" class=\"dataframe\">\n",
       "  <thead>\n",
       "    <tr style=\"text-align: right;\">\n",
       "      <th></th>\n",
       "    </tr>\n",
       "  </thead>\n",
       "  <tbody>\n",
       "  </tbody>\n",
       "</table>\n",
       "</div>"
      ],
      "text/plain": [
       "Empty DataFrame\n",
       "Columns: []\n",
       "Index: []"
      ]
     },
     "execution_count": 18,
     "metadata": {},
     "output_type": "execute_result"
    }
   ],
   "source": [
    "df"
   ]
  },
  {
   "cell_type": "code",
   "execution_count": 19,
   "metadata": {},
   "outputs": [],
   "source": [
    "for i in range(1,429):\n",
    "    response = requests.get('https://api.themoviedb.org/3/movie/top_rated?api_key=8265bd1679663a7ea12ac168da84d2e8&language=en-US&page={}'.format(i))\n",
    "    temp_df = pd.DataFrame(response.json()['results'])[['id','title','overview','release_date','popularity','vote_average','vote_count']]\n",
    "    df = df.append(temp_df,ignore_index=True)\n",
    "    "
   ]
  },
  {
   "cell_type": "code",
   "execution_count": 21,
   "metadata": {},
   "outputs": [
    {
     "data": {
      "text/html": [
       "<div>\n",
       "<style scoped>\n",
       "    .dataframe tbody tr th:only-of-type {\n",
       "        vertical-align: middle;\n",
       "    }\n",
       "\n",
       "    .dataframe tbody tr th {\n",
       "        vertical-align: top;\n",
       "    }\n",
       "\n",
       "    .dataframe thead th {\n",
       "        text-align: right;\n",
       "    }\n",
       "</style>\n",
       "<table border=\"1\" class=\"dataframe\">\n",
       "  <thead>\n",
       "    <tr style=\"text-align: right;\">\n",
       "      <th></th>\n",
       "      <th>id</th>\n",
       "      <th>title</th>\n",
       "      <th>overview</th>\n",
       "      <th>release_date</th>\n",
       "      <th>popularity</th>\n",
       "      <th>vote_average</th>\n",
       "      <th>vote_count</th>\n",
       "    </tr>\n",
       "  </thead>\n",
       "  <tbody>\n",
       "    <tr>\n",
       "      <th>0</th>\n",
       "      <td>19404</td>\n",
       "      <td>Dilwale Dulhania Le Jayenge</td>\n",
       "      <td>Raj is a rich, carefree, happy-go-lucky second...</td>\n",
       "      <td>1995-10-20</td>\n",
       "      <td>18.433</td>\n",
       "      <td>8.7</td>\n",
       "      <td>2763</td>\n",
       "    </tr>\n",
       "    <tr>\n",
       "      <th>1</th>\n",
       "      <td>724089</td>\n",
       "      <td>Gabriel's Inferno Part II</td>\n",
       "      <td>Professor Gabriel Emerson finally learns the t...</td>\n",
       "      <td>2020-07-31</td>\n",
       "      <td>8.439</td>\n",
       "      <td>8.7</td>\n",
       "      <td>1223</td>\n",
       "    </tr>\n",
       "    <tr>\n",
       "      <th>2</th>\n",
       "      <td>278</td>\n",
       "      <td>The Shawshank Redemption</td>\n",
       "      <td>Framed in the 1940s for the double murder of h...</td>\n",
       "      <td>1994-09-23</td>\n",
       "      <td>65.570</td>\n",
       "      <td>8.7</td>\n",
       "      <td>18637</td>\n",
       "    </tr>\n",
       "    <tr>\n",
       "      <th>3</th>\n",
       "      <td>238</td>\n",
       "      <td>The Godfather</td>\n",
       "      <td>Spanning the years 1945 to 1955, a chronicle o...</td>\n",
       "      <td>1972-03-14</td>\n",
       "      <td>63.277</td>\n",
       "      <td>8.7</td>\n",
       "      <td>14052</td>\n",
       "    </tr>\n",
       "    <tr>\n",
       "      <th>4</th>\n",
       "      <td>761053</td>\n",
       "      <td>Gabriel's Inferno Part III</td>\n",
       "      <td>The final part of the film adaption of the ero...</td>\n",
       "      <td>2020-11-19</td>\n",
       "      <td>26.691</td>\n",
       "      <td>8.7</td>\n",
       "      <td>773</td>\n",
       "    </tr>\n",
       "    <tr>\n",
       "      <th>...</th>\n",
       "      <td>...</td>\n",
       "      <td>...</td>\n",
       "      <td>...</td>\n",
       "      <td>...</td>\n",
       "      <td>...</td>\n",
       "      <td>...</td>\n",
       "      <td>...</td>\n",
       "    </tr>\n",
       "    <tr>\n",
       "      <th>8546</th>\n",
       "      <td>13805</td>\n",
       "      <td>Disaster Movie</td>\n",
       "      <td>The filmmaking team behind the hits \"Scary Mov...</td>\n",
       "      <td>2008-08-29</td>\n",
       "      <td>14.630</td>\n",
       "      <td>3.2</td>\n",
       "      <td>714</td>\n",
       "    </tr>\n",
       "    <tr>\n",
       "      <th>8547</th>\n",
       "      <td>5491</td>\n",
       "      <td>Battlefield Earth</td>\n",
       "      <td>In the year 3000, man is no match for the Psyc...</td>\n",
       "      <td>2000-05-12</td>\n",
       "      <td>10.647</td>\n",
       "      <td>3.0</td>\n",
       "      <td>543</td>\n",
       "    </tr>\n",
       "    <tr>\n",
       "      <th>8548</th>\n",
       "      <td>14164</td>\n",
       "      <td>Dragonball Evolution</td>\n",
       "      <td>The young warrior Son Goku sets out on a quest...</td>\n",
       "      <td>2009-03-12</td>\n",
       "      <td>32.244</td>\n",
       "      <td>2.8</td>\n",
       "      <td>1447</td>\n",
       "    </tr>\n",
       "    <tr>\n",
       "      <th>8549</th>\n",
       "      <td>11059</td>\n",
       "      <td>House of the Dead</td>\n",
       "      <td>Set on an island off the coast, a techno rave ...</td>\n",
       "      <td>2003-04-11</td>\n",
       "      <td>14.502</td>\n",
       "      <td>2.8</td>\n",
       "      <td>238</td>\n",
       "    </tr>\n",
       "    <tr>\n",
       "      <th>8550</th>\n",
       "      <td>40016</td>\n",
       "      <td>Birdemic: Shock and Terror</td>\n",
       "      <td>A platoon of eagles and vultures attacks the r...</td>\n",
       "      <td>2010-02-27</td>\n",
       "      <td>9.824</td>\n",
       "      <td>2.2</td>\n",
       "      <td>215</td>\n",
       "    </tr>\n",
       "  </tbody>\n",
       "</table>\n",
       "<p>8551 rows × 7 columns</p>\n",
       "</div>"
      ],
      "text/plain": [
       "          id                        title  \\\n",
       "0      19404  Dilwale Dulhania Le Jayenge   \n",
       "1     724089    Gabriel's Inferno Part II   \n",
       "2        278     The Shawshank Redemption   \n",
       "3        238                The Godfather   \n",
       "4     761053   Gabriel's Inferno Part III   \n",
       "...      ...                          ...   \n",
       "8546   13805               Disaster Movie   \n",
       "8547    5491            Battlefield Earth   \n",
       "8548   14164         Dragonball Evolution   \n",
       "8549   11059            House of the Dead   \n",
       "8550   40016   Birdemic: Shock and Terror   \n",
       "\n",
       "                                               overview release_date  \\\n",
       "0     Raj is a rich, carefree, happy-go-lucky second...   1995-10-20   \n",
       "1     Professor Gabriel Emerson finally learns the t...   2020-07-31   \n",
       "2     Framed in the 1940s for the double murder of h...   1994-09-23   \n",
       "3     Spanning the years 1945 to 1955, a chronicle o...   1972-03-14   \n",
       "4     The final part of the film adaption of the ero...   2020-11-19   \n",
       "...                                                 ...          ...   \n",
       "8546  The filmmaking team behind the hits \"Scary Mov...   2008-08-29   \n",
       "8547  In the year 3000, man is no match for the Psyc...   2000-05-12   \n",
       "8548  The young warrior Son Goku sets out on a quest...   2009-03-12   \n",
       "8549  Set on an island off the coast, a techno rave ...   2003-04-11   \n",
       "8550  A platoon of eagles and vultures attacks the r...   2010-02-27   \n",
       "\n",
       "      popularity  vote_average  vote_count  \n",
       "0         18.433           8.7        2763  \n",
       "1          8.439           8.7        1223  \n",
       "2         65.570           8.7       18637  \n",
       "3         63.277           8.7       14052  \n",
       "4         26.691           8.7         773  \n",
       "...          ...           ...         ...  \n",
       "8546      14.630           3.2         714  \n",
       "8547      10.647           3.0         543  \n",
       "8548      32.244           2.8        1447  \n",
       "8549      14.502           2.8         238  \n",
       "8550       9.824           2.2         215  \n",
       "\n",
       "[8551 rows x 7 columns]"
      ]
     },
     "execution_count": 21,
     "metadata": {},
     "output_type": "execute_result"
    }
   ],
   "source": [
    "df"
   ]
  },
  {
   "cell_type": "code",
   "execution_count": 22,
   "metadata": {},
   "outputs": [
    {
     "data": {
      "text/plain": [
       "(8551, 7)"
      ]
     },
     "execution_count": 22,
     "metadata": {},
     "output_type": "execute_result"
    }
   ],
   "source": [
    "df.shape"
   ]
  },
  {
   "cell_type": "code",
   "execution_count": 23,
   "metadata": {},
   "outputs": [],
   "source": [
    "df.to_csv('movies.csv')"
   ]
  },
  {
   "cell_type": "code",
   "execution_count": null,
   "metadata": {},
   "outputs": [],
   "source": [
    "## TO get more API's search on rapidapi.com/collection/list-of-free-apis"
   ]
  },
  {
   "cell_type": "code",
   "execution_count": 17,
   "metadata": {},
   "outputs": [],
   "source": [
    "import requests\n",
    "\n",
    "url = \"https://cricbuzz-cricket.p.rapidapi.com/matches/v1/recent\"\n",
    "\n",
    "headers = {\n",
    "\t\"X-RapidAPI-Key\": \"69147ca6e7msh21770feee6067ecp108e85jsn93a7c6296bb0\",\n",
    "\t\"X-RapidAPI-Host\": \"cricbuzz-cricket.p.rapidapi.com\"\n",
    "}\n",
    "\n",
    "response = requests.get(url, headers=headers)\n",
    "# response.json()\n",
    "# df = pd.DataFrame(response.json())"
   ]
  },
  {
   "cell_type": "code",
   "execution_count": 20,
   "metadata": {},
   "outputs": [
    {
     "data": {
      "text/html": [
       "<div>\n",
       "<style scoped>\n",
       "    .dataframe tbody tr th:only-of-type {\n",
       "        vertical-align: middle;\n",
       "    }\n",
       "\n",
       "    .dataframe tbody tr th {\n",
       "        vertical-align: top;\n",
       "    }\n",
       "\n",
       "    .dataframe thead th {\n",
       "        text-align: right;\n",
       "    }\n",
       "</style>\n",
       "<table border=\"1\" class=\"dataframe\">\n",
       "  <thead>\n",
       "    <tr style=\"text-align: right;\">\n",
       "      <th></th>\n",
       "      <th>typeMatches</th>\n",
       "    </tr>\n",
       "  </thead>\n",
       "  <tbody>\n",
       "    <tr>\n",
       "      <th>0</th>\n",
       "      <td>{'matchType': 'International', 'seriesMatches'...</td>\n",
       "    </tr>\n",
       "    <tr>\n",
       "      <th>1</th>\n",
       "      <td>{'matchType': 'League', 'seriesMatches': [{'se...</td>\n",
       "    </tr>\n",
       "    <tr>\n",
       "      <th>2</th>\n",
       "      <td>{'matchType': 'Domestic', 'seriesMatches': [{'...</td>\n",
       "    </tr>\n",
       "    <tr>\n",
       "      <th>3</th>\n",
       "      <td>{'matchType': 'Women', 'seriesMatches': [{'ser...</td>\n",
       "    </tr>\n",
       "  </tbody>\n",
       "</table>\n",
       "</div>"
      ],
      "text/plain": [
       "                                         typeMatches\n",
       "0  {'matchType': 'International', 'seriesMatches'...\n",
       "1  {'matchType': 'League', 'seriesMatches': [{'se...\n",
       "2  {'matchType': 'Domestic', 'seriesMatches': [{'...\n",
       "3  {'matchType': 'Women', 'seriesMatches': [{'ser..."
      ]
     },
     "execution_count": 20,
     "metadata": {},
     "output_type": "execute_result"
    }
   ],
   "source": [
    "pd.read_json(\"jsonfile.json\")"
   ]
  },
  {
   "cell_type": "code",
   "execution_count": 48,
   "metadata": {},
   "outputs": [
    {
     "name": "stdout",
     "output_type": "stream",
     "text": [
      "{'matchScheduleMap': [{'scheduleAdWrapper': {'date': 'SUN, JUL 23 2023', 'matchScheduleList': [{'seriesName': 'The Ashes, 2023', 'matchInfo': [{'matchId': 53364, 'seriesId': 4777, 'matchDesc': '4th Test, Day 5', 'matchFormat': 'TEST', 'startDate': '1690106400000', 'endDate': '1690156799000', 'team1': {'teamId': 9, 'teamName': 'England', 'teamSName': 'ENG', 'isFullMember': True, 'imageId': 172123}, 'team2': {'teamId': 4, 'teamName': 'Australia', 'teamSName': 'AUS', 'isFullMember': True, 'imageId': 172117}, 'venueInfo': {'ground': 'Emirates Old Trafford', 'city': 'Manchester', 'country': 'England', 'timezone': '+01:00'}}], 'seriesId': 4777, 'seriesHomeCountry': 1, 'seriesCategory': 'International'}, {'seriesName': 'India tour of West Indies, 2023', 'matchInfo': [{'matchId': 72826, 'seriesId': 6582, 'matchDesc': '2nd Test, Day 4', 'matchFormat': 'TEST', 'startDate': '1690120800000', 'endDate': '1690243199000', 'team1': {'teamId': 10, 'teamName': 'West Indies', 'teamSName': 'WI', 'isFullMember': True, 'imageId': 172124}, 'team2': {'teamId': 2, 'teamName': 'India', 'teamSName': 'IND', 'isFullMember': True, 'imageId': 172115}, 'venueInfo': {'ground': \"Queen's Park Oval\", 'city': 'Port of Spain, Trinidad', 'country': 'West Indies', 'timezone': '-04:00'}}], 'seriesId': 6582, 'seriesHomeCountry': 1, 'seriesCategory': 'International'}, {'seriesName': 'ICC Mens T20 World Cup Europe Qualifier 2023', 'matchInfo': [{'matchId': 70842, 'seriesId': 6333, 'matchDesc': '7th Match', 'matchFormat': 'T20', 'startDate': '1690104600000', 'endDate': '1690156799000', 'team1': {'teamId': 532, 'teamName': 'Austria', 'teamSName': 'AUT', 'imageId': 172583}, 'team2': {'teamId': 27, 'teamName': 'Ireland', 'teamSName': 'IRE', 'isFullMember': True, 'imageId': 172141}, 'venueInfo': {'ground': 'Grange Cricket Club', 'city': 'Edinburgh', 'country': 'Scotland', 'timezone': '+01:00'}}, {'matchId': 70845, 'seriesId': 6333, 'matchDesc': '8th Match', 'matchFormat': 'T20', 'startDate': '1690104600000', 'endDate': '1690156799000', 'team1': {'teamId': 527, 'teamName': 'Italy', 'teamSName': 'ITA', 'imageId': 172577}, 'team2': {'teamId': 303, 'teamName': 'Jersey', 'teamSName': 'JER', 'imageId': 172352}, 'venueInfo': {'ground': 'Goldenacre', 'city': 'Edinburgh', 'country': 'Scotland', 'timezone': '+01:00'}}, {'matchId': 70849, 'seriesId': 6333, 'matchDesc': '9th Match', 'matchFormat': 'T20', 'startDate': '1690122600000', 'endDate': '1690156799000', 'team1': {'teamId': 185, 'teamName': 'Denmark', 'teamSName': 'DEN', 'imageId': 172245}, 'team2': {'teamId': 77, 'teamName': 'Germany', 'teamSName': 'GER', 'imageId': 172171}, 'venueInfo': {'ground': 'Grange Cricket Club', 'city': 'Edinburgh', 'country': 'Scotland', 'timezone': '+01:00'}}], 'seriesId': 6333, 'seriesHomeCountry': 1, 'seriesCategory': 'International'}, {'seriesName': 'ICC Mens T20 World Cup East Asia Pacific Qualifier 2023', 'matchInfo': [{'matchId': 70929, 'seriesId': 6340, 'matchDesc': '3rd Match', 'matchFormat': 'T20', 'startDate': '1690068600000', 'endDate': '1690156799000', 'team1': {'teamId': 547, 'teamName': 'Japan', 'teamSName': 'JPN', 'imageId': 248418}, 'team2': {'teamId': 300, 'teamName': 'Vanuatu', 'teamSName': 'VAN', 'imageId': 172349}, 'venueInfo': {'ground': 'Amini Park', 'city': 'Port Moresby', 'country': 'Papua New Guinea', 'timezone': '+10:00'}}, {'matchId': 70933, 'seriesId': 6340, 'matchDesc': '4th Match', 'matchFormat': 'T20', 'startDate': '1690083000000', 'endDate': '1690156799000', 'team1': {'teamId': 287, 'teamName': 'Papua New Guinea', 'teamSName': 'PNG', 'imageId': 172336}, 'team2': {'teamId': 538, 'teamName': 'Philippines', 'teamSName': 'PHI', 'imageId': 172589}, 'venueInfo': {'ground': 'Amini Park', 'city': 'Port Moresby', 'country': 'Papua New Guinea', 'timezone': '+10:00'}}], 'seriesId': 6340, 'seriesHomeCountry': 1, 'seriesCategory': 'International'}], 'longDate': '1690070400000'}}, {'adDetail': {'name': 'native_news_index_random_1', 'layout': 'native_large', 'position': 1}}, {'scheduleAdWrapper': {'date': 'MON, JUL 24 2023', 'matchScheduleList': [{'seriesName': 'Pakistan tour of Sri Lanka, 2023', 'matchInfo': [{'matchId': 73638, 'seriesId': 6652, 'matchDesc': '2nd Test, Day 1', 'matchFormat': 'TEST', 'startDate': '1690173000000', 'endDate': '1690588799000', 'team1': {'teamId': 5, 'teamName': 'Sri Lanka', 'teamSName': 'SL', 'isFullMember': True, 'imageId': 172119}, 'team2': {'teamId': 3, 'teamName': 'Pakistan', 'teamSName': 'PAK', 'isFullMember': True, 'imageId': 172116}, 'venueInfo': {'ground': 'Sinhalese Sports Club', 'city': 'Colombo', 'country': 'Sri Lanka', 'timezone': '+05:30'}}], 'seriesId': 6652, 'seriesHomeCountry': 1, 'seriesCategory': 'International'}, {'seriesName': 'India tour of West Indies, 2023', 'matchInfo': [{'matchId': 72826, 'seriesId': 6582, 'matchDesc': '2nd Test, Day 5', 'matchFormat': 'TEST', 'startDate': '1690207200000', 'endDate': '1690243199000', 'team1': {'teamId': 10, 'teamName': 'West Indies', 'teamSName': 'WI', 'isFullMember': True, 'imageId': 172124}, 'team2': {'teamId': 2, 'teamName': 'India', 'teamSName': 'IND', 'isFullMember': True, 'imageId': 172115}, 'venueInfo': {'ground': \"Queen's Park Oval\", 'city': 'Port of Spain, Trinidad', 'country': 'West Indies', 'timezone': '-04:00'}}], 'seriesId': 6582, 'seriesHomeCountry': 1, 'seriesCategory': 'International'}, {'seriesName': 'ICC Mens T20 World Cup Europe Qualifier 2023', 'matchInfo': [{'matchId': 70856, 'seriesId': 6333, 'matchDesc': '10th Match', 'matchFormat': 'T20', 'startDate': '1690191000000', 'endDate': '1690243199000', 'team1': {'teamId': 23, 'teamName': 'Scotland', 'teamSName': 'SCO', 'imageId': 172137}, 'team2': {'teamId': 527, 'teamName': 'Italy', 'teamSName': 'ITA', 'imageId': 172577}, 'venueInfo': {'ground': 'Grange Cricket Club', 'city': 'Edinburgh', 'country': 'Scotland', 'timezone': '+01:00'}}, {'matchId': 70863, 'seriesId': 6333, 'matchDesc': '11th Match', 'matchFormat': 'T20', 'startDate': '1690191000000', 'endDate': '1690243199000', 'team1': {'teamId': 185, 'teamName': 'Denmark', 'teamSName': 'DEN', 'imageId': 172245}, 'team2': {'teamId': 532, 'teamName': 'Austria', 'teamSName': 'AUT', 'imageId': 172583}, 'venueInfo': {'ground': 'Goldenacre', 'city': 'Edinburgh', 'country': 'Scotland', 'timezone': '+01:00'}}, {'matchId': 70866, 'seriesId': 6333, 'matchDesc': '12th Match', 'matchFormat': 'T20', 'startDate': '1690209000000', 'endDate': '1690243199000', 'team1': {'teamId': 303, 'teamName': 'Jersey', 'teamSName': 'JER', 'imageId': 172352}, 'team2': {'teamId': 27, 'teamName': 'Ireland', 'teamSName': 'IRE', 'isFullMember': True, 'imageId': 172141}, 'venueInfo': {'ground': 'Goldenacre', 'city': 'Edinburgh', 'country': 'Scotland', 'timezone': '+01:00'}}], 'seriesId': 6333, 'seriesHomeCountry': 1, 'seriesCategory': 'International'}], 'longDate': '1690156800000'}}, {'scheduleAdWrapper': {'date': 'TUE, JUL 25 2023', 'matchScheduleList': [{'seriesName': 'Pakistan tour of Sri Lanka, 2023', 'matchInfo': [{'matchId': 73638, 'seriesId': 6652, 'matchDesc': '2nd Test, Day 2', 'matchFormat': 'TEST', 'startDate': '1690259400000', 'endDate': '1690588799000', 'team1': {'teamId': 5, 'teamName': 'Sri Lanka', 'teamSName': 'SL', 'isFullMember': True, 'imageId': 172119}, 'team2': {'teamId': 3, 'teamName': 'Pakistan', 'teamSName': 'PAK', 'isFullMember': True, 'imageId': 172116}, 'venueInfo': {'ground': 'Sinhalese Sports Club', 'city': 'Colombo', 'country': 'Sri Lanka', 'timezone': '+05:30'}}], 'seriesId': 6652, 'seriesHomeCountry': 1, 'seriesCategory': 'International'}, {'seriesName': 'ICC Mens T20 World Cup Europe Qualifier 2023', 'matchInfo': [{'matchId': 70877, 'seriesId': 6333, 'matchDesc': '14th Match', 'matchFormat': 'T20', 'startDate': '1690277400000', 'endDate': '1690329599000', 'team1': {'teamId': 23, 'teamName': 'Scotland', 'teamSName': 'SCO', 'imageId': 172137}, 'team2': {'teamId': 532, 'teamName': 'Austria', 'teamSName': 'AUT', 'imageId': 172583}, 'venueInfo': {'ground': 'Goldenacre', 'city': 'Edinburgh', 'country': 'Scotland', 'timezone': '+01:00'}}, {'matchId': 70873, 'seriesId': 6333, 'matchDesc': '13th Match', 'matchFormat': 'T20', 'startDate': '1690277400000', 'endDate': '1690329599000', 'team1': {'teamId': 527, 'teamName': 'Italy', 'teamSName': 'ITA', 'imageId': 172577}, 'team2': {'teamId': 185, 'teamName': 'Denmark', 'teamSName': 'DEN', 'imageId': 172245}, 'venueInfo': {'ground': 'Grange Cricket Club', 'city': 'Edinburgh', 'country': 'Scotland', 'timezone': '+01:00'}}, {'matchId': 70880, 'seriesId': 6333, 'matchDesc': '15th Match', 'matchFormat': 'T20', 'startDate': '1690295400000', 'endDate': '1690329599000', 'team1': {'teamId': 77, 'teamName': 'Germany', 'teamSName': 'GER', 'imageId': 172171}, 'team2': {'teamId': 303, 'teamName': 'Jersey', 'teamSName': 'JER', 'imageId': 172352}, 'venueInfo': {'ground': 'Grange Cricket Club', 'city': 'Edinburgh', 'country': 'Scotland', 'timezone': '+01:00'}}], 'seriesId': 6333, 'seriesHomeCountry': 1, 'seriesCategory': 'International'}, {'seriesName': 'ICC Mens T20 World Cup East Asia Pacific Qualifier 2023', 'matchInfo': [{'matchId': 70940, 'seriesId': 6340, 'matchDesc': '5th Match', 'matchFormat': 'T20', 'startDate': '1690241400000', 'endDate': '1690329599000', 'team1': {'teamId': 538, 'teamName': 'Philippines', 'teamSName': 'PHI', 'imageId': 172589}, 'team2': {'teamId': 300, 'teamName': 'Vanuatu', 'teamSName': 'VAN', 'imageId': 172349}, 'venueInfo': {'ground': 'Amini Park', 'city': 'Port Moresby', 'country': 'Papua New Guinea', 'timezone': '+10:00'}}, {'matchId': 70943, 'seriesId': 6340, 'matchDesc': '6th Match', 'matchFormat': 'T20', 'startDate': '1690255800000', 'endDate': '1690329599000', 'team1': {'teamId': 287, 'teamName': 'Papua New Guinea', 'teamSName': 'PNG', 'imageId': 172336}, 'team2': {'teamId': 547, 'teamName': 'Japan', 'teamSName': 'JPN', 'imageId': 248418}, 'venueInfo': {'ground': 'Amini Park', 'city': 'Port Moresby', 'country': 'Papua New Guinea', 'timezone': '+10:00'}}], 'seriesId': 6340, 'seriesHomeCountry': 1, 'seriesCategory': 'International'}], 'longDate': '1690243200000'}}, {'scheduleAdWrapper': {'date': 'WED, JUL 26 2023', 'matchScheduleList': [{'seriesName': 'Pakistan tour of Sri Lanka, 2023', 'matchInfo': [{'matchId': 73638, 'seriesId': 6652, 'matchDesc': '2nd Test, Day 3', 'matchFormat': 'TEST', 'startDate': '1690345800000', 'endDate': '1690588799000', 'team1': {'teamId': 5, 'teamName': 'Sri Lanka', 'teamSName': 'SL', 'isFullMember': True, 'imageId': 172119}, 'team2': {'teamId': 3, 'teamName': 'Pakistan', 'teamSName': 'PAK', 'isFullMember': True, 'imageId': 172116}, 'venueInfo': {'ground': 'Sinhalese Sports Club', 'city': 'Colombo', 'country': 'Sri Lanka', 'timezone': '+05:30'}}], 'seriesId': 6652, 'seriesHomeCountry': 1, 'seriesCategory': 'International'}, {'seriesName': 'ICC Mens T20 World Cup Asia Qualifier B 2023', 'matchInfo': [{'matchId': 73789, 'seriesId': 6687, 'matchDesc': '1st Match', 'matchFormat': 'T20', 'startDate': '1690336800000', 'endDate': '1690415999000', 'team1': {'teamId': 71, 'teamName': 'Malaysia', 'teamSName': 'MLY', 'imageId': 172168}, 'team2': {'teamId': 524, 'teamName': 'China', 'teamSName': 'CHN', 'imageId': 172574}, 'venueInfo': {'ground': 'Bayuemas Oval', 'city': 'Kuala Lumpur', 'country': 'Malaysia', 'timezone': '+08:00'}}, {'matchId': 73792, 'seriesId': 6687, 'matchDesc': '2nd Match', 'matchFormat': 'T20', 'startDate': '1690351200000', 'endDate': '1690415999000', 'team1': {'teamId': 555, 'teamName': 'Bhutan', 'teamSName': 'BTN', 'imageId': 172607}, 'team2': {'teamId': 565, 'teamName': 'Myanmar', 'teamSName': 'MMR', 'imageId': 172617}, 'venueInfo': {'ground': 'Bayuemas Oval', 'city': 'Kuala Lumpur', 'country': 'Malaysia', 'timezone': '+08:00'}}], 'seriesId': 6687, 'seriesHomeCountry': 1, 'seriesCategory': 'International'}, {'seriesName': 'ICC Mens T20 World Cup East Asia Pacific Qualifier 2023', 'matchInfo': [{'matchId': 70947, 'seriesId': 6340, 'matchDesc': '7th Match', 'matchFormat': 'T20', 'startDate': '1690327800000', 'endDate': '1690415999000', 'team1': {'teamId': 287, 'teamName': 'Papua New Guinea', 'teamSName': 'PNG', 'imageId': 172336}, 'team2': {'teamId': 300, 'teamName': 'Vanuatu', 'teamSName': 'VAN', 'imageId': 172349}, 'venueInfo': {'ground': 'Amini Park', 'city': 'Port Moresby', 'country': 'Papua New Guinea', 'timezone': '+10:00'}}, {'matchId': 70954, 'seriesId': 6340, 'matchDesc': '8th Match', 'matchFormat': 'T20', 'startDate': '1690342200000', 'endDate': '1690415999000', 'team1': {'teamId': 538, 'teamName': 'Philippines', 'teamSName': 'PHI', 'imageId': 172589}, 'team2': {'teamId': 547, 'teamName': 'Japan', 'teamSName': 'JPN', 'imageId': 248418}, 'venueInfo': {'ground': 'Amini Park', 'city': 'Port Moresby', 'country': 'Papua New Guinea', 'timezone': '+10:00'}}], 'seriesId': 6340, 'seriesHomeCountry': 1, 'seriesCategory': 'International'}], 'longDate': '1690329600000'}}, {'adDetail': {'name': 'native_news_index_random_2', 'layout': 'native_large', 'position': 4}}, {'scheduleAdWrapper': {'date': 'THU, JUL 27 2023', 'matchScheduleList': [{'seriesName': 'ICC Mens T20 World Cup Europe Qualifier 2023', 'matchInfo': [{'matchId': 70887, 'seriesId': 6333, 'matchDesc': '16th Match', 'matchFormat': 'T20', 'startDate': '1690450200000', 'endDate': '1690502399000', 'team1': {'teamId': 23, 'teamName': 'Scotland', 'teamSName': 'SCO', 'imageId': 172137}, 'team2': {'teamId': 185, 'teamName': 'Denmark', 'teamSName': 'DEN', 'imageId': 172245}, 'venueInfo': {'ground': 'Grange Cricket Club', 'city': 'Edinburgh', 'country': 'Scotland', 'timezone': '+01:00'}}, {'matchId': 70894, 'seriesId': 6333, 'matchDesc': '17th Match', 'matchFormat': 'T20', 'startDate': '1690450200000', 'endDate': '1690502399000', 'team1': {'teamId': 27, 'teamName': 'Ireland', 'teamSName': 'IRE', 'isFullMember': True, 'imageId': 172141}, 'team2': {'teamId': 77, 'teamName': 'Germany', 'teamSName': 'GER', 'imageId': 172171}, 'venueInfo': {'ground': 'Goldenacre', 'city': 'Edinburgh', 'country': 'Scotland', 'timezone': '+01:00'}}, {'matchId': 70898, 'seriesId': 6333, 'matchDesc': '18th Match', 'matchFormat': 'T20', 'startDate': '1690468200000', 'endDate': '1690502399000', 'team1': {'teamId': 527, 'teamName': 'Italy', 'teamSName': 'ITA', 'imageId': 172577}, 'team2': {'teamId': 532, 'teamName': 'Austria', 'teamSName': 'AUT', 'imageId': 172583}, 'venueInfo': {'ground': 'Goldenacre', 'city': 'Edinburgh', 'country': 'Scotland', 'timezone': '+01:00'}}], 'seriesId': 6333, 'seriesHomeCountry': 1, 'seriesCategory': 'International'}, {'seriesName': 'The Ashes, 2023', 'matchInfo': [{'matchId': 53366, 'seriesId': 4777, 'matchDesc': '5th Test, Day 1', 'matchFormat': 'TEST', 'startDate': '1690452000000', 'endDate': '1690847999000', 'team1': {'teamId': 9, 'teamName': 'England', 'teamSName': 'ENG', 'isFullMember': True, 'imageId': 172123}, 'team2': {'teamId': 4, 'teamName': 'Australia', 'teamSName': 'AUS', 'isFullMember': True, 'imageId': 172117}, 'venueInfo': {'ground': 'Kennington Oval', 'city': 'London', 'country': 'England', 'timezone': '+01:00'}}], 'seriesId': 4777, 'seriesHomeCountry': 1, 'seriesCategory': 'International'}, {'seriesName': 'India tour of West Indies, 2023', 'matchInfo': [{'matchId': 72833, 'seriesId': 6582, 'matchDesc': '1st ODI', 'matchFormat': 'ODI', 'startDate': '1690464600000', 'endDate': '1690502399000', 'team1': {'teamId': 10, 'teamName': 'West Indies', 'teamSName': 'WI', 'isFullMember': True, 'imageId': 172124}, 'team2': {'teamId': 2, 'teamName': 'India', 'teamSName': 'IND', 'isFullMember': True, 'imageId': 172115}, 'venueInfo': {'ground': 'Kensington Oval', 'city': 'Bridgetown, Barbados', 'country': 'West Indies', 'timezone': '-04:00'}}], 'seriesId': 6582, 'seriesHomeCountry': 1, 'seriesCategory': 'International'}, {'seriesName': 'Pakistan tour of Sri Lanka, 2023', 'matchInfo': [{'matchId': 73638, 'seriesId': 6652, 'matchDesc': '2nd Test, Day 4', 'matchFormat': 'TEST', 'startDate': '1690432200000', 'endDate': '1690588799000', 'team1': {'teamId': 5, 'teamName': 'Sri Lanka', 'teamSName': 'SL', 'isFullMember': True, 'imageId': 172119}, 'team2': {'teamId': 3, 'teamName': 'Pakistan', 'teamSName': 'PAK', 'isFullMember': True, 'imageId': 172116}, 'venueInfo': {'ground': 'Sinhalese Sports Club', 'city': 'Colombo', 'country': 'Sri Lanka', 'timezone': '+05:30'}}], 'seriesId': 6652, 'seriesHomeCountry': 1, 'seriesCategory': 'International'}, {'seriesName': 'ICC Mens T20 World Cup Asia Qualifier B 2023', 'matchInfo': [{'matchId': 73799, 'seriesId': 6687, 'matchDesc': '3rd Match', 'matchFormat': 'T20', 'startDate': '1690423200000', 'endDate': '1690502399000', 'team1': {'teamId': 524, 'teamName': 'China', 'teamSName': 'CHN', 'imageId': 172574}, 'team2': {'teamId': 384, 'teamName': 'Thailand', 'teamSName': 'THAI', 'imageId': 172437}, 'venueInfo': {'ground': 'Bayuemas Oval', 'city': 'Kuala Lumpur', 'country': 'Malaysia', 'timezone': '+08:00'}}, {'matchId': 73806, 'seriesId': 6687, 'matchDesc': '4th Match', 'matchFormat': 'T20', 'startDate': '1690437600000', 'endDate': '1690502399000', 'team1': {'teamId': 71, 'teamName': 'Malaysia', 'teamSName': 'MLY', 'imageId': 172168}, 'team2': {'teamId': 555, 'teamName': 'Bhutan', 'teamSName': 'BTN', 'imageId': 172607}, 'venueInfo': {'ground': 'Bayuemas Oval', 'city': 'Kuala Lumpur', 'country': 'Malaysia', 'timezone': '+08:00'}}], 'seriesId': 6687, 'seriesHomeCountry': 1, 'seriesCategory': 'International'}], 'longDate': '1690416000000'}}], 'startDt': ['1689760800000', '1689861600000', '1690104600000', '1690104600000', '1690122600000', '1690068600000', '1690083000000', '1690191000000', '1690191000000', '1690209000000', '1690173000000', '1690277400000', '1690277400000', '1690295400000', '1690241400000', '1690255800000', '1690327800000', '1690342200000', '1690336800000', '1690351200000', '1690452000000', '1690450200000', '1690450200000', '1690468200000', '1690464600000', '1690423200000', '1690437600000', '1690536600000', '1690536600000', '1690554600000', '1690500600000', '1690515000000', '1690509600000', '1690587000000', '1690601400000', '1690637400000', '1690682400000', '1690696800000', '1690768800000', '1690783200000', '1690896600000', '1690855200000', '1691073000000', '1691332200000', '1691505000000', '1691850600000', '1691937000000', '1692280800000', '1692367200000', '1692453600000', '1692540000000', '1692540000000', '1692799200000', '1693414800000', '1693411200000', '1693389600000', '1693470600000', '1693587600000', '1693584000000', '1693643400000', '1693747800000', '1693742400000', '1693735200000', '1693816200000', '1693933200000', '1693908000000', '1693994400000', '1694084400000', '1694172600000', '1694257200000', '1694248200000', '1694340000000', '1694334600000', '1694516400000', '1694507400000', '1694604600000', '1694680200000', '1694777400000', '1694775600000', '1694766600000', '1694937600000', '1694939400000', '1695209400000', '1695276000000', '1695463200000', '1695448800000', '1695727800000', '1695708000000', '1696494600000', '1696581000000', '1696654800000', '1696667400000', '1696753800000', '1696840200000', '1696926600000', '1697013000000', '1697099400000', '1697185800000', '1697259600000', '1697272200000', '1697358600000', '1697445000000', '1697531400000', '1697617800000', '1697704200000', '1697790600000', '1697877000000', '1697864400000', '1697963400000', '1698049800000', '1698136200000', '1698222600000', '1698309000000', '1698395400000', '1698469200000', '1698481800000', '1698568200000', '1698654600000', '1698741000000', '1698827400000', '1698913800000', '1699000200000', '1699086600000', '1699074000000', '1699173000000', '1699259400000', '1699345800000', '1699432200000', '1699518600000', '1699605000000', '1699691400000', '1699777800000', '1699765200000', '1700037000000', '1700123400000', '1700382600000', '1700710200000', '1701142200000', '1701612000000', '1701871200000', '1701833400000', '1702130400000', '1702224000000', '1702411200000', '1702396800000', '1702584000000', '1702520400000', '1702569600000', '1702756800000', '1702800000000', '1702764000000', '1703016000000', '1702983600000', '1703023200000', '1703188800000', '1703156400000', '1703282400000', '1703547000000', '1703577600000', '1703657400000', '1703830200000', '1703980800000', '1704238200000', '1704270600000', '1705043400000', '1705212600000', '1705447800000', '1705449600000', '1705644600000', '1705795200000', '1706155200000', '1706844600000', '1707017400000', '1706997600000', '1707190200000', '1707465600000', '1707638400000', '1707811200000', '1707775200000', '1708495800000', '1708672200000', '1708822800000', '1709157600000', '1709848800000', '1716399000000', '1716658200000', '1716917400000', '1717090200000', '1720605600000', '1721296800000', '1721988000000', '1724234400000', '1724925600000', '1725616800000', '1726075800000', '1726248600000', '1726421400000', '1726740000000', '1726923600000', '1727172000000', '1727442000000', '1727604000000'], 'appIndex': {'seoTitle': 'Cricket Schedule - International, domestic and T20 matches - Cricbuzz', 'webURL': 'www.cricbuzz.com/cricket-schedule/series'}}\n"
     ]
    }
   ],
   "source": [
    "import requests\n",
    "\n",
    "url = \"https://cricbuzz-cricket.p.rapidapi.com/schedule/v1/international\"\n",
    "\n",
    "headers = {\n",
    "\t\"X-RapidAPI-Key\": \"69147ca6e7msh21770feee6067ecp108e85jsn93a7c6296bb0\",\n",
    "\t\"X-RapidAPI-Host\": \"cricbuzz-cricket.p.rapidapi.com\"\n",
    "}\n",
    "\n",
    "response = requests.get(url, headers=headers)\n",
    "\n",
    "print(response.json())\n",
    "df_t = pd.DataFrame(response.json()['matchScheduleMap'])"
   ]
  },
  {
   "cell_type": "code",
   "execution_count": 49,
   "metadata": {},
   "outputs": [
    {
     "data": {
      "text/html": [
       "<div>\n",
       "<style scoped>\n",
       "    .dataframe tbody tr th:only-of-type {\n",
       "        vertical-align: middle;\n",
       "    }\n",
       "\n",
       "    .dataframe tbody tr th {\n",
       "        vertical-align: top;\n",
       "    }\n",
       "\n",
       "    .dataframe thead th {\n",
       "        text-align: right;\n",
       "    }\n",
       "</style>\n",
       "<table border=\"1\" class=\"dataframe\">\n",
       "  <thead>\n",
       "    <tr style=\"text-align: right;\">\n",
       "      <th></th>\n",
       "      <th>scheduleAdWrapper</th>\n",
       "      <th>adDetail</th>\n",
       "    </tr>\n",
       "  </thead>\n",
       "  <tbody>\n",
       "    <tr>\n",
       "      <th>0</th>\n",
       "      <td>{'date': 'SUN, JUL 23 2023', 'matchScheduleLis...</td>\n",
       "      <td>NaN</td>\n",
       "    </tr>\n",
       "    <tr>\n",
       "      <th>1</th>\n",
       "      <td>NaN</td>\n",
       "      <td>{'name': 'native_news_index_random_1', 'layout...</td>\n",
       "    </tr>\n",
       "    <tr>\n",
       "      <th>2</th>\n",
       "      <td>{'date': 'MON, JUL 24 2023', 'matchScheduleLis...</td>\n",
       "      <td>NaN</td>\n",
       "    </tr>\n",
       "    <tr>\n",
       "      <th>3</th>\n",
       "      <td>{'date': 'TUE, JUL 25 2023', 'matchScheduleLis...</td>\n",
       "      <td>NaN</td>\n",
       "    </tr>\n",
       "    <tr>\n",
       "      <th>4</th>\n",
       "      <td>{'date': 'WED, JUL 26 2023', 'matchScheduleLis...</td>\n",
       "      <td>NaN</td>\n",
       "    </tr>\n",
       "    <tr>\n",
       "      <th>5</th>\n",
       "      <td>NaN</td>\n",
       "      <td>{'name': 'native_news_index_random_2', 'layout...</td>\n",
       "    </tr>\n",
       "    <tr>\n",
       "      <th>6</th>\n",
       "      <td>{'date': 'THU, JUL 27 2023', 'matchScheduleLis...</td>\n",
       "      <td>NaN</td>\n",
       "    </tr>\n",
       "  </tbody>\n",
       "</table>\n",
       "</div>"
      ],
      "text/plain": [
       "                                   scheduleAdWrapper  \\\n",
       "0  {'date': 'SUN, JUL 23 2023', 'matchScheduleLis...   \n",
       "1                                                NaN   \n",
       "2  {'date': 'MON, JUL 24 2023', 'matchScheduleLis...   \n",
       "3  {'date': 'TUE, JUL 25 2023', 'matchScheduleLis...   \n",
       "4  {'date': 'WED, JUL 26 2023', 'matchScheduleLis...   \n",
       "5                                                NaN   \n",
       "6  {'date': 'THU, JUL 27 2023', 'matchScheduleLis...   \n",
       "\n",
       "                                            adDetail  \n",
       "0                                                NaN  \n",
       "1  {'name': 'native_news_index_random_1', 'layout...  \n",
       "2                                                NaN  \n",
       "3                                                NaN  \n",
       "4                                                NaN  \n",
       "5  {'name': 'native_news_index_random_2', 'layout...  \n",
       "6                                                NaN  "
      ]
     },
     "execution_count": 49,
     "metadata": {},
     "output_type": "execute_result"
    }
   ],
   "source": [
    "df_t"
   ]
  },
  {
   "cell_type": "code",
   "execution_count": null,
   "metadata": {},
   "outputs": [],
   "source": []
  }
 ],
 "metadata": {
  "kernelspec": {
   "display_name": "Python 3 (ipykernel)",
   "language": "python",
   "name": "python3"
  },
  "language_info": {
   "codemirror_mode": {
    "name": "ipython",
    "version": 3
   },
   "file_extension": ".py",
   "mimetype": "text/x-python",
   "name": "python",
   "nbconvert_exporter": "python",
   "pygments_lexer": "ipython3",
   "version": "3.10.9"
  }
 },
 "nbformat": 4,
 "nbformat_minor": 4
}
