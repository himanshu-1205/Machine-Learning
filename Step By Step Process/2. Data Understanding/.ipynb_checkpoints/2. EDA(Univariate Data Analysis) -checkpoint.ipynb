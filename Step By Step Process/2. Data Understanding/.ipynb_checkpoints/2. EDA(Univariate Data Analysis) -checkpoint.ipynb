{
 "cells": [
  {
   "cell_type": "markdown",
   "id": "d73b6d97-e172-43ac-9472-5347b1232535",
   "metadata": {},
   "source": [
    "# Please refer this link to learn Univariate Analysis\n",
    "# https://github.com/himanshu-1205/Statistics/blob/master/Statistics/Univariate%20data%20analysis.ipynb"
   ]
  },
  {
   "cell_type": "code",
   "execution_count": null,
   "id": "2cb5204d-8eeb-4976-beb3-0d56d44c6488",
   "metadata": {},
   "outputs": [],
   "source": []
  }
 ],
 "metadata": {
  "kernelspec": {
   "display_name": "Python 3 (ipykernel)",
   "language": "python",
   "name": "python3"
  },
  "language_info": {
   "codemirror_mode": {
    "name": "ipython",
    "version": 3
   },
   "file_extension": ".py",
   "mimetype": "text/x-python",
   "name": "python",
   "nbconvert_exporter": "python",
   "pygments_lexer": "ipython3",
   "version": "3.10.9"
  }
 },
 "nbformat": 4,
 "nbformat_minor": 5
}
