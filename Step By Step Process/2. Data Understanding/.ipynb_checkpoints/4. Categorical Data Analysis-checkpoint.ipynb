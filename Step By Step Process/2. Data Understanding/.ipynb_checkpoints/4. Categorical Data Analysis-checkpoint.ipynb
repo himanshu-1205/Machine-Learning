{
 "cells": [
  {
   "cell_type": "markdown",
   "id": "6d1b3366-9dae-4a3f-be7b-57130481d595",
   "metadata": {},
   "source": [
    "# Please refer this link to learn Categorical Data Analysis\n",
    "# https://github.com/himanshu-1205/Statistics/blob/master/Statistics/Qualitative(Categorical)%20Data%20Analysis.ipynb"
   ]
  },
  {
   "cell_type": "code",
   "execution_count": null,
   "id": "61ad0737-35d6-4dc0-be55-eed13f6cc6dd",
   "metadata": {},
   "outputs": [],
   "source": []
  }
 ],
 "metadata": {
  "kernelspec": {
   "display_name": "Python 3 (ipykernel)",
   "language": "python",
   "name": "python3"
  },
  "language_info": {
   "codemirror_mode": {
    "name": "ipython",
    "version": 3
   },
   "file_extension": ".py",
   "mimetype": "text/x-python",
   "name": "python",
   "nbconvert_exporter": "python",
   "pygments_lexer": "ipython3",
   "version": "3.10.9"
  }
 },
 "nbformat": 4,
 "nbformat_minor": 5
}
